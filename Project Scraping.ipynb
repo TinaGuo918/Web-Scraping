{
 "cells": [
  {
   "cell_type": "code",
   "execution_count": 1,
   "id": "6d54359d",
   "metadata": {
    "id": "0c710d24"
   },
   "outputs": [],
   "source": [
    "import requests\n",
    "from bs4 import BeautifulSoup\n",
    "from selenium.webdriver.chrome.service import Service\n",
    "from selenium import webdriver\n",
    "from selenium.webdriver.common.keys import Keys\n",
    "import pandas as pd\n",
    "\n",
    "from datetime import datetime, timedelta\n",
    "import time\n",
    "from random import random\n",
    "import os\n",
    "import json"
   ]
  },
  {
   "cell_type": "code",
   "execution_count": 2,
   "id": "23cc2e85",
   "metadata": {
    "id": "b3f3963f"
   },
   "outputs": [],
   "source": [
    "chromedriver = \"/Applications/chromedriver\"\n",
    "os.environ[\"webdriver.chrome.driver\"] = chromedriver"
   ]
  },
  {
   "cell_type": "code",
   "execution_count": 3,
   "id": "790b59e8",
   "metadata": {
    "id": "616e3342"
   },
   "outputs": [],
   "source": [
    "head = \"https://www.indeed.com/\"\n",
    "ny_ds = \"https://www.indeed.com/jobs?q=data+scientist&rbl=New+York,+NY&jlid=45f6c4ded55c00bf&sort=date\""
   ]
  },
  {
   "cell_type": "code",
   "execution_count": null,
   "id": "d81349ec",
   "metadata": {
    "id": "4faaa786"
   },
   "outputs": [],
   "source": [
    "def get_soup(url):\n",
    "    t = 1 + 2 * random()\n",
    "    time.sleep(t)\n",
    "    try:\n",
    "        page = requests.get(url, headers={'User-Agent': 'Resistance is futile'})\n",
    "    except:\n",
    "        return None\n",
    "    else:\n",
    "        return BeautifulSoup(page.text, 'lxml')\n",
    "\n",
    "\n",
    "def find_job_cards(soup):\n",
    "    return soup.find_all('a', href=True)\n",
    "\n",
    "class Job_Card():\n",
    "    def __init__(self, job_card):\n",
    "        self.job = job_card\n",
    "        self.summary = {}\n",
    "\n",
    "\n",
    "    def get_job_title(self):\n",
    "        try:\n",
    "            self.summary['title'] = self.job.find('span', title=True).get_text().strip()\n",
    "        except:\n",
    "            self.summary['title'] = None\n",
    "\n",
    "    def get_company(self):\n",
    "        try:\n",
    "            self.summary['company'] = self.job.find('span', class_='companyName').get_text().strip()\n",
    "        except:\n",
    "            self.summary['company'] = None\n",
    "\n",
    "    def get_company_rating(self):\n",
    "        try:\n",
    "            self.summary['rating'] = self.job.find('span', class_='ratingsDisplay withRatingLink').get_text().strip()\n",
    "        except:\n",
    "            self.summary['rating'] = None\n",
    "\n",
    "    def get_job_loc(self):\n",
    "        try:\n",
    "            self.summary['loc'] = self.job.find('div', class_='companyLocation').get_text.strip()\n",
    "        except:\n",
    "            self.summary['loc'] = None\n",
    "\n",
    "    def get_job_remote(self):\n",
    "        try:\n",
    "            self.summary['remote'] = self.job.find('span', class_='Temporarily Remote').get_text().strip()\n",
    "        except:\n",
    "            self.summary['remote'] = None\n",
    "\n",
    "    def get_salary(self):\n",
    "        try:\n",
    "            self.summary['salary'] = self.job.find('span', class_='salary-snippet').get_text().strip()\n",
    "        except:\n",
    "            self.summary['salary'] = None\n",
    "\n",
    "    def get_info_page(self):\n",
    "        try:\n",
    "            self.summary['info_page'] = self.job.find('a').get('href')\n",
    "        except:\n",
    "            self.summary['info_page'] = None\n",
    "\n",
    "    def get_job_Description(self):\n",
    "        info_soup = get_soup(self.summary['info_page'])\n",
    "        try:\n",
    "            jd_all = info_soup.find('div', id='jobDescriptionText')\n",
    "        except:\n",
    "            self.summary['job_description'] = None\n",
    "        else:\n",
    "            self.summary['job_description'] = '\\n'.join([p for p in jd_all.descendants if isinstance(p, str)])\n",
    "\n",
    "\n",
    "def get_newest_jd(url):\n",
    "    soup = get_soup(url)\n",
    "    job_cards = find_job_cards(soup)\n",
    "    job_sum = []\n",
    "    for job_card in job_cards:\n",
    "        job = Job_Card(job_card)\n",
    "        job.get_job_title()\n",
    "        job.get_company()\n",
    "        job.get_company_rating()\n",
    "        job.get_job_loc()\n",
    "        job.get_job_remote()\n",
    "        job.get_salary()\n",
    "        job.get_info_page()\n",
    "        job.get_job_Description()\n",
    "        job_sum.append(job.summary)\n",
    "\n",
    "    return pd.DataFrame(job_sum)\n",
    "\n",
    "def get_multiple_pages_jd(start_url, n):\n",
    "    jobs_page1 = get_newest_jd(start_url)\n",
    "    jobs_all = [jobs_page1]\n",
    "    for i in range(1, n):\n",
    "        tail = f'&start={i}0'\n",
    "        url = start_url + tail\n",
    "        jobs_all.append(get_newest_jd(url))\n",
    "    \n",
    "    return jobs_all\n",
    "\n",
    "if __name__ == \"__main__\":\n",
    "    dfs = get_multiple_pages_jd(ny_ds,3)\n",
    "    df = pd.concat(dfs, ignore_index=True) \n",
    "    df.to_excel('ny_ds_job.xlsx', index=False)"
   ]
  },
  {
   "cell_type": "code",
   "execution_count": null,
   "id": "8e3591fb",
   "metadata": {
    "id": "e4d23377"
   },
   "outputs": [],
   "source": []
  },
  {
   "cell_type": "code",
   "execution_count": null,
   "id": "aae9c9e2",
   "metadata": {
    "id": "cffa9e6b"
   },
   "outputs": [],
   "source": []
  }
 ],
 "metadata": {
  "colab": {
   "collapsed_sections": [],
   "name": "Project Scraping.ipynb",
   "provenance": []
  },
  "kernelspec": {
   "display_name": "Python 3",
   "language": "python",
   "name": "python3"
  },
  "language_info": {
   "codemirror_mode": {
    "name": "ipython",
    "version": 3
   },
   "file_extension": ".py",
   "mimetype": "text/x-python",
   "name": "python",
   "nbconvert_exporter": "python",
   "pygments_lexer": "ipython3",
   "version": "3.7.3"
  },
  "toc": {
   "base_numbering": 1,
   "nav_menu": {},
   "number_sections": true,
   "sideBar": true,
   "skip_h1_title": false,
   "title_cell": "Table of Contents",
   "title_sidebar": "Contents",
   "toc_cell": false,
   "toc_position": {},
   "toc_section_display": true,
   "toc_window_display": false
  }
 },
 "nbformat": 4,
 "nbformat_minor": 5
}
